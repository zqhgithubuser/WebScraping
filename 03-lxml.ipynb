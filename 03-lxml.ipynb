{
 "cells": [
  {
   "cell_type": "markdown",
   "metadata": {},
   "source": [
    "## 读取XML文件"
   ]
  },
  {
   "cell_type": "code",
   "execution_count": 4,
   "metadata": {},
   "outputs": [
    {
     "data": {
      "text/plain": [
       "<Element breakfast_menu at 0x1d526f22a80>"
      ]
     },
     "execution_count": 4,
     "metadata": {},
     "output_type": "execute_result"
    }
   ],
   "source": [
    "from lxml import etree\n",
    "\n",
    "xml = open('downloads/breakfast.xml', 'rb').read()\n",
    "tree = etree.XML(xml)\n",
    "tree"
   ]
  },
  {
   "cell_type": "code",
   "execution_count": 8,
   "metadata": {},
   "outputs": [
    {
     "data": {
      "text/plain": [
       "lxml.etree._Element"
      ]
     },
     "execution_count": 8,
     "metadata": {},
     "output_type": "execute_result"
    }
   ],
   "source": [
    "type(tree)"
   ]
  },
  {
   "cell_type": "code",
   "execution_count": 10,
   "metadata": {},
   "outputs": [
    {
     "name": "stdout",
     "output_type": "stream",
     "text": [
      "breakfast_menu - \n",
      "  \n",
      "food - \n",
      "    \n",
      "name - Belgian Waffles\n",
      "price - $5.95\n",
      "description - Two of our famous Belgian Waffles with plenty of real maple syrup\n",
      "calories - 650\n",
      "food - \n",
      "    \n",
      "name - Strawberry Belgian Waffles\n",
      "price - $7.95\n",
      "description - Light Belgian waffles covered with strawberries and whipped cream\n",
      "calories - 900\n",
      "food - \n",
      "    \n",
      "name - Berry-Berry Belgian Waffles\n",
      "price - $8.95\n",
      "description - Light Belgian waffles covered with an assortment of fresh berries and whipped cream\n",
      "calories - 900\n",
      "food - \n",
      "    \n",
      "name - French Toast\n",
      "price - $4.50\n",
      "description - Thick slices made from our homemade sourdough bread\n",
      "calories - 600\n",
      "food - \n",
      "    \n",
      "name - Homestyle Breakfast\n",
      "price - $6.95\n",
      "description - Two eggs, bacon or sausage, toast, and our ever-popular hash browns\n",
      "calories - 950\n"
     ]
    }
   ],
   "source": [
    "for element in tree.iter():\n",
    "    print(f'{element.tag} - {element.text}')"
   ]
  },
  {
   "cell_type": "markdown",
   "metadata": {},
   "source": [
    "### XPATH表达式"
   ]
  },
  {
   "cell_type": "code",
   "execution_count": 14,
   "metadata": {},
   "outputs": [
    {
     "name": "stdout",
     "output_type": "stream",
     "text": [
      "Belgian Waffles - 650\n",
      "French Toast - 600\n"
     ]
    }
   ],
   "source": [
    "for element in tree.xpath('//food'):\n",
    "    if int(element.xpath('./calories/text()')[0]) < 800:\n",
    "        print(f\"{element.xpath('./name/text()')[0]} - \"\n",
    "              f\"{element.xpath('./calories/text()')[0]}\")"
   ]
  },
  {
   "cell_type": "markdown",
   "metadata": {},
   "source": [
    "## 读取HTML文件"
   ]
  },
  {
   "cell_type": "code",
   "execution_count": 16,
   "metadata": {},
   "outputs": [
    {
     "data": {
      "text/plain": [
       "lxml.etree._ElementTree"
      ]
     },
     "execution_count": 16,
     "metadata": {},
     "output_type": "execute_result"
    }
   ],
   "source": [
    "from lxml import html\n",
    "from urllib.request import urlopen\n",
    "\n",
    "url ='http://httpbin.org/forms/post'\n",
    "tree = html.parse(urlopen(url))\n",
    "type(tree)"
   ]
  },
  {
   "cell_type": "code",
   "execution_count": 18,
   "metadata": {},
   "outputs": [
    {
     "data": {
      "text/plain": [
       "lxml.html.HtmlElement"
      ]
     },
     "execution_count": 18,
     "metadata": {},
     "output_type": "execute_result"
    }
   ],
   "source": [
    "root = tree.getroot()\n",
    "type(root)"
   ]
  },
  {
   "cell_type": "markdown",
   "metadata": {},
   "source": [
    "### 查找单个元素"
   ]
  },
  {
   "cell_type": "code",
   "execution_count": 22,
   "metadata": {},
   "outputs": [
    {
     "data": {
      "text/plain": [
       "'Customer name: '"
      ]
     },
     "execution_count": 22,
     "metadata": {},
     "output_type": "execute_result"
    }
   ],
   "source": [
    "tagP = root.find('.//p')\n",
    "tagP.text_content()"
   ]
  },
  {
   "cell_type": "code",
   "execution_count": 29,
   "metadata": {},
   "outputs": [
    {
     "name": "stdout",
     "output_type": "stream",
     "text": [
      "Customer name: \n"
     ]
    }
   ],
   "source": [
    "tagP1 = root.findtext('.//p/')\n",
    "print(tagP1)"
   ]
  },
  {
   "cell_type": "markdown",
   "metadata": {},
   "source": [
    "### 查找所有元素"
   ]
  },
  {
   "cell_type": "code",
   "execution_count": 30,
   "metadata": {},
   "outputs": [
    {
     "name": "stdout",
     "output_type": "stream",
     "text": [
      "Customer name: \n",
      "Telephone: \n",
      "E-mail address: \n",
      "  Small \n",
      "  Medium \n",
      "  Large \n",
      "  Bacon \n",
      "  Extra Cheese \n",
      "  Onion \n",
      "  Mushroom \n",
      "Preferred delivery time: \n",
      "Delivery instructions: \n",
      "Submit order\n"
     ]
    }
   ],
   "source": [
    "for pTag in root.findall('.//p'):\n",
    "    print(pTag.text_content())"
   ]
  },
  {
   "cell_type": "markdown",
   "metadata": {},
   "source": [
    "### XPATH表达式"
   ]
  },
  {
   "cell_type": "code",
   "execution_count": 37,
   "metadata": {},
   "outputs": [
    {
     "name": "stdout",
     "output_type": "stream",
     "text": [
      "['small', 'medium', 'large', 'bacon', 'cheese', 'onion', 'mushroom']\n",
      "[' Pizza Size ', ' Pizza Toppings ']\n",
      "['Customer name:', 'Telephone:', 'E-mail address:', 'Preferred delivery time:', 'Delivery instructions:', 'Submit order']\n"
     ]
    }
   ],
   "source": [
    "print(root.xpath('//p/label/input/@value'))\n",
    "print(root.xpath('//legend/text()'))\n",
    "# 所有p标签文本\n",
    "print([formP.text_content().strip() for formP in root.xpath('//form/p')])"
   ]
  },
  {
   "cell_type": "markdown",
   "metadata": {},
   "source": [
    "### CSS选择器"
   ]
  },
  {
   "cell_type": "code",
   "execution_count": 45,
   "metadata": {},
   "outputs": [
    {
     "name": "stdout",
     "output_type": "stream",
     "text": [
      "['small', 'medium', 'large', 'bacon', 'cheese', 'onion', 'mushroom']\n",
      "[' Pizza Size ', ' Pizza Toppings ']\n",
      "['Customer name:', 'Telephone:', 'E-mail address:', 'Preferred delivery time:', 'Delivery instructions:', 'Submit order']\n"
     ]
    }
   ],
   "source": [
    "print([e.get('value') for e in root.cssselect('p label input[value]')])\n",
    "print([l.text_content() for l in root.cssselect('legend')])\n",
    "print([p.text_content().strip() for p in root.cssselect('form > p')])"
   ]
  },
  {
   "cell_type": "markdown",
   "metadata": {},
   "source": [
    "## 使用lxml进行网络爬虫"
   ]
  },
  {
   "cell_type": "code",
   "execution_count": 46,
   "metadata": {},
   "outputs": [],
   "source": [
    "import lxml.html as web\n",
    "from lxml.etree import XPath\n",
    "import math\n",
    "import csv\n",
    "\n",
    "baseUrl = \"http://books.toscrape.com/\"\n",
    "bookUrl = baseUrl + \"catalogue/category/books/childrens_11/index.html\"\n",
    "pageUrl = baseUrl + \"catalogue/category/books/childrens_11/page-\"  # page-1, page-2\n",
    "columns = ['title', 'price', 'stock', 'imageUrl', 'rating', 'url']  # CSV 文件的字段\n",
    "\n",
    "dataSet = []\n",
    "page = 1\n",
    "totalPagesCount = 1"
   ]
  },
  {
   "cell_type": "markdown",
   "metadata": {},
   "source": [
    "### 处理每一页"
   ]
  },
  {
   "cell_type": "code",
   "execution_count": 51,
   "metadata": {},
   "outputs": [],
   "source": [
    "while page <= totalPagesCount:\n",
    "    source = web.parse(pageUrl + str(page) + '.html').getroot()\n",
    "    if page == 1:\n",
    "        perpageArticlesCount = source.xpath(\n",
    "            \"//form[@class='form-horizontal']/strong[3]/text()\"\n",
    "        )\n",
    "        totalArticlesCount = source.xpath(\n",
    "            \"//form[@class='form-horizontal']/strong[1]/text()\"\n",
    "        )\n",
    "        totalPagesCount = math.ceil(\n",
    "            int(totalArticlesCount[0]) / int(perpageArticlesCount[0])\n",
    "        )\n",
    "        print(f\"TotalPages found: {totalPagesCount}\")\n",
    "    print(f'Processing page {str(page)} from {totalPagesCount}...')\n",
    "\n",
    "    # 元素的路径\n",
    "    articles = XPath(\"//ol[contains(@class, 'row')]/li[position() > 0]\")\n",
    "    titlePath = XPath(\".//article[contains(@class, 'product_pod')]/h3/a/@title\")\n",
    "    linkPath = XPath(\".//article[contains(@class, 'product_pod')]/h3/a/@href\")\n",
    "    pricePath = XPath(\".//article/div[2]/p[contains(@class, 'price_color')]/text()\")\n",
    "    stockPath = XPath(\n",
    "        \".//article/div[2]/p[contains(@class, 'availability')]/text()[normalize-space()]\"\n",
    "    )\n",
    "    imagePath = XPath(\".//article/div[1][contains(@class,'image_container')]/a/img/@src\")\n",
    "    ratingPath = XPath(\".//article/p[contains(@class, 'star-rating')]/@class\")\n",
    "\n",
    "    for row in articles(source):\n",
    "        title = titlePath(row)[0]\n",
    "        link = linkPath(row)[0].replace('../../../', baseUrl + 'catalogue/')\n",
    "        price = pricePath(row)[0]\n",
    "        availability = stockPath(row)[0].strip()\n",
    "        image = imagePath(row)[0].replace('../../../../', baseUrl)\n",
    "        rating = ratingPath(row)[0].replace('star-rating','').strip()\n",
    "\n",
    "        if len(title):\n",
    "            dataSet.append([title, price, availability, image, rating, link])\n",
    "    \n",
    "    print(f'Rows in Dataset: {len(dataSet)}')\n",
    "    \n",
    "    page += 1"
   ]
  },
  {
   "cell_type": "code",
   "execution_count": 53,
   "metadata": {},
   "outputs": [
    {
     "data": {
      "text/plain": [
       "[['Birdsong: A Story in Pictures',\n",
       "  '£54.64',\n",
       "  'In stock',\n",
       "  'http://books.toscrape.com/media/cache/af/6e/af6e796160fe63e0cf19d44395c7ddf2.jpg',\n",
       "  'Three',\n",
       "  'http://books.toscrape.com/catalogue/birdsong-a-story-in-pictures_975/index.html'],\n",
       " ['The Bear and the Piano',\n",
       "  '£36.89',\n",
       "  'In stock',\n",
       "  'http://books.toscrape.com/media/cache/cf/bb/cfbb5e62715c6d888fd07794c9bab5d6.jpg',\n",
       "  'One',\n",
       "  'http://books.toscrape.com/catalogue/the-bear-and-the-piano_967/index.html'],\n",
       " ['The Secret of Dreadwillow Carse',\n",
       "  '£56.13',\n",
       "  'In stock',\n",
       "  'http://books.toscrape.com/media/cache/c4/a2/c4a2a1a026c67bcceb5a411c724d7d0c.jpg',\n",
       "  'One',\n",
       "  'http://books.toscrape.com/catalogue/the-secret-of-dreadwillow-carse_944/index.html'],\n",
       " ['The White Cat and the Monk: A Retelling of the Poem “Pangur Bán”',\n",
       "  '£58.08',\n",
       "  'In stock',\n",
       "  'http://books.toscrape.com/media/cache/26/32/2632a1e12f2c085fabbe022ae4cd6933.jpg',\n",
       "  'Four',\n",
       "  'http://books.toscrape.com/catalogue/the-white-cat-and-the-monk-a-retelling-of-the-poem-pangur-ban_865/index.html'],\n",
       " ['Little Red',\n",
       "  '£13.47',\n",
       "  'In stock',\n",
       "  'http://books.toscrape.com/media/cache/80/25/8025b80a40178f2a6dd4f99ad88e0fba.jpg',\n",
       "  'Three',\n",
       "  'http://books.toscrape.com/catalogue/little-red_817/index.html'],\n",
       " [\"Walt Disney's Alice in Wonderland\",\n",
       "  '£12.96',\n",
       "  'In stock',\n",
       "  'http://books.toscrape.com/media/cache/28/50/2850439c2ba103fb69dba9cd2dd9f0c2.jpg',\n",
       "  'Five',\n",
       "  'http://books.toscrape.com/catalogue/walt-disneys-alice-in-wonderland_777/index.html'],\n",
       " ['Twenty Yawns',\n",
       "  '£22.08',\n",
       "  'In stock',\n",
       "  'http://books.toscrape.com/media/cache/2b/38/2b380f77723c797c0389f978afa6db58.jpg',\n",
       "  'Two',\n",
       "  'http://books.toscrape.com/catalogue/twenty-yawns_773/index.html'],\n",
       " ['Rain Fish',\n",
       "  '£23.57',\n",
       "  'In stock',\n",
       "  'http://books.toscrape.com/media/cache/bb/e2/bbe26db72b8a32117bfe4981b7cc8147.jpg',\n",
       "  'Three',\n",
       "  'http://books.toscrape.com/catalogue/rain-fish_728/index.html'],\n",
       " ['Once Was a Time',\n",
       "  '£18.28',\n",
       "  'In stock',\n",
       "  'http://books.toscrape.com/media/cache/97/12/971212afa8e4ff49d92f678bc889d8b7.jpg',\n",
       "  'Two',\n",
       "  'http://books.toscrape.com/catalogue/once-was-a-time_724/index.html'],\n",
       " ['Luis Paints the World',\n",
       "  '£53.95',\n",
       "  'In stock',\n",
       "  'http://books.toscrape.com/media/cache/85/e7/85e75d5a9309da5807c82decf3d90263.jpg',\n",
       "  'Three',\n",
       "  'http://books.toscrape.com/catalogue/luis-paints-the-world_714/index.html'],\n",
       " ['Nap-a-Roo',\n",
       "  '£25.08',\n",
       "  'In stock',\n",
       "  'http://books.toscrape.com/media/cache/27/1f/271faa1d7561473974d12803feb1f0a1.jpg',\n",
       "  'One',\n",
       "  'http://books.toscrape.com/catalogue/nap-a-roo_567/index.html'],\n",
       " ['The Whale',\n",
       "  '£35.96',\n",
       "  'In stock',\n",
       "  'http://books.toscrape.com/media/cache/6c/18/6c18ea03e294bfcfe07cf531c6c5f5b3.jpg',\n",
       "  'Four',\n",
       "  'http://books.toscrape.com/catalogue/the-whale_501/index.html'],\n",
       " ['Shrunken Treasures: Literary Classics, Short, Sweet, and Silly',\n",
       "  '£52.87',\n",
       "  'In stock',\n",
       "  'http://books.toscrape.com/media/cache/4f/1e/4f1ece2500f8dbacecca42d57befca03.jpg',\n",
       "  'Three',\n",
       "  'http://books.toscrape.com/catalogue/shrunken-treasures-literary-classics-short-sweet-and-silly_484/index.html'],\n",
       " ['Raymie Nightingale',\n",
       "  '£34.41',\n",
       "  'In stock',\n",
       "  'http://books.toscrape.com/media/cache/8f/66/8f66ec46e671d6fca79649c10c7c8f8a.jpg',\n",
       "  'Two',\n",
       "  'http://books.toscrape.com/catalogue/raymie-nightingale_482/index.html'],\n",
       " ['Playing from the Heart',\n",
       "  '£32.38',\n",
       "  'In stock',\n",
       "  'http://books.toscrape.com/media/cache/1c/eb/1cebdf525ebe970a1dc3c5a8c50eae6b.jpg',\n",
       "  'One',\n",
       "  'http://books.toscrape.com/catalogue/playing-from-the-heart_481/index.html'],\n",
       " ['Maybe Something Beautiful: How Art Transformed a Neighborhood',\n",
       "  '£22.54',\n",
       "  'In stock',\n",
       "  'http://books.toscrape.com/media/cache/c0/bb/c0bb6e42743b9c1aaf9b754501100a5d.jpg',\n",
       "  'One',\n",
       "  'http://books.toscrape.com/catalogue/maybe-something-beautiful-how-art-transformed-a-neighborhood_386/index.html'],\n",
       " ['The Wild Robot',\n",
       "  '£56.07',\n",
       "  'In stock',\n",
       "  'http://books.toscrape.com/media/cache/bf/db/bfdbf9726621276fc7821d705690dbae.jpg',\n",
       "  'Three',\n",
       "  'http://books.toscrape.com/catalogue/the-wild-robot_288/index.html'],\n",
       " ['The Thing About Jellyfish',\n",
       "  '£48.77',\n",
       "  'In stock',\n",
       "  'http://books.toscrape.com/media/cache/e0/90/e090748ce5a567207aed9185c97eb34b.jpg',\n",
       "  'One',\n",
       "  'http://books.toscrape.com/catalogue/the-thing-about-jellyfish_283/index.html'],\n",
       " ['The Lonely Ones',\n",
       "  '£43.59',\n",
       "  'In stock',\n",
       "  'http://books.toscrape.com/media/cache/21/bd/21bdf7ae21476b1debf4aa3eefe6f29d.jpg',\n",
       "  'Five',\n",
       "  'http://books.toscrape.com/catalogue/the-lonely-ones_261/index.html'],\n",
       " ['The Day the Crayons Came Home (Crayons)',\n",
       "  '£26.33',\n",
       "  'In stock',\n",
       "  'http://books.toscrape.com/media/cache/ec/08/ec08efebaa33a403e54080b48c139794.jpg',\n",
       "  'Five',\n",
       "  'http://books.toscrape.com/catalogue/the-day-the-crayons-came-home-crayons_241/index.html'],\n",
       " ['The Cat in the Hat (Beginner Books B-1)',\n",
       "  '£16.26',\n",
       "  'In stock',\n",
       "  'http://books.toscrape.com/media/cache/9b/f1/9bf106306301a44635aa7bd381c84e4d.jpg',\n",
       "  'Two',\n",
       "  'http://books.toscrape.com/catalogue/the-cat-in-the-hat-beginner-books-b-1_235/index.html'],\n",
       " ['Red: The True Story of Red Riding Hood',\n",
       "  '£28.54',\n",
       "  'In stock',\n",
       "  'http://books.toscrape.com/media/cache/70/4e/704e81b05e56dd84ecf607ea283952db.jpg',\n",
       "  'Three',\n",
       "  'http://books.toscrape.com/catalogue/red-the-true-story-of-red-riding-hood_210/index.html'],\n",
       " ['Horrible Bear!',\n",
       "  '£37.52',\n",
       "  'In stock',\n",
       "  'http://books.toscrape.com/media/cache/d2/63/d26337dee5c0b13b56b7aea59d611570.jpg',\n",
       "  'Two',\n",
       "  'http://books.toscrape.com/catalogue/horrible-bear_168/index.html'],\n",
       " ['Green Eggs and Ham (Beginner Books B-16)',\n",
       "  '£10.79',\n",
       "  'In stock',\n",
       "  'http://books.toscrape.com/media/cache/3a/0e/3a0e75e4f758f90a80965869afbe41b4.jpg',\n",
       "  'Four',\n",
       "  'http://books.toscrape.com/catalogue/green-eggs-and-ham-beginner-books-b-16_165/index.html'],\n",
       " ['Counting Thyme',\n",
       "  '£10.62',\n",
       "  'In stock',\n",
       "  'http://books.toscrape.com/media/cache/e0/ae/e0ae97753a73b88b61b13b19977613dc.jpg',\n",
       "  'One',\n",
       "  'http://books.toscrape.com/catalogue/counting-thyme_142/index.html'],\n",
       " ['Are We There Yet?',\n",
       "  '£10.66',\n",
       "  'In stock',\n",
       "  'http://books.toscrape.com/media/cache/f8/be/f8be3238a1cf039a3e7d50de1d4c2cfd.jpg',\n",
       "  'Three',\n",
       "  'http://books.toscrape.com/catalogue/are-we-there-yet_122/index.html'],\n",
       " ['Diary of a Minecraft Zombie Book 1: A Scare of a Dare (An Unofficial Minecraft Book)',\n",
       "  '£52.88',\n",
       "  'In stock',\n",
       "  'http://books.toscrape.com/media/cache/47/16/47160ff71abe23cb52968b3d1b9b7988.jpg',\n",
       "  'Four',\n",
       "  'http://books.toscrape.com/catalogue/diary-of-a-minecraft-zombie-book-1-a-scare-of-a-dare-an-unofficial-minecraft-book_99/index.html'],\n",
       " ['Matilda',\n",
       "  '£28.34',\n",
       "  'In stock',\n",
       "  'http://books.toscrape.com/media/cache/03/47/0347bd215f4813edd81c2cd76bab53ca.jpg',\n",
       "  'One',\n",
       "  'http://books.toscrape.com/catalogue/matilda_32/index.html'],\n",
       " ['Charlie and the Chocolate Factory (Charlie Bucket #1)',\n",
       "  '£22.85',\n",
       "  'In stock',\n",
       "  'http://books.toscrape.com/media/cache/d6/cc/d6cc0c66e34dfc214b406208bbaf18e2.jpg',\n",
       "  'Three',\n",
       "  'http://books.toscrape.com/catalogue/charlie-and-the-chocolate-factory-charlie-bucket-1_13/index.html']]"
      ]
     },
     "execution_count": 53,
     "metadata": {},
     "output_type": "execute_result"
    }
   ],
   "source": [
    "dataSet"
   ]
  },
  {
   "cell_type": "code",
   "execution_count": 54,
   "metadata": {},
   "outputs": [],
   "source": [
    "def write_to_csv(data, filename, columns):\n",
    "    with open(filename, 'w+', newline='', encoding='utf-8') as fp:\n",
    "        writer = csv.DictWriter(fp, fieldnames=columns)\n",
    "        writer.writeheader()\n",
    "        writer = csv.writer(fp)\n",
    "        for element in data:\n",
    "            writer.writerow(element)\n",
    "            \n",
    "write_to_csv(dataSet, 'downloads/books.csv', columns)"
   ]
  }
 ],
 "metadata": {
  "kernelspec": {
   "display_name": "Python 3",
   "language": "python",
   "name": "python3"
  },
  "language_info": {
   "codemirror_mode": {
    "name": "ipython",
    "version": 3
   },
   "file_extension": ".py",
   "mimetype": "text/x-python",
   "name": "python",
   "nbconvert_exporter": "python",
   "pygments_lexer": "ipython3",
   "version": "3.10.11"
  }
 },
 "nbformat": 4,
 "nbformat_minor": 2
}
